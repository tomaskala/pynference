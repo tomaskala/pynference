{
 "cells": [
  {
   "cell_type": "code",
   "execution_count": 1,
   "metadata": {},
   "outputs": [],
   "source": [
    "import pickle\n",
    "\n",
    "import matplotlib.pyplot as plt\n",
    "import numpy as np\n",
    "import pandas as pd\n",
    "import pyreadr\n",
    "\n",
    "%load_ext memory_profiler"
   ]
  },
  {
   "cell_type": "code",
   "execution_count": 2,
   "metadata": {},
   "outputs": [],
   "source": [
    "data_src = \"./data/Data_20130610.RData\""
   ]
  },
  {
   "cell_type": "code",
   "execution_count": 3,
   "metadata": {},
   "outputs": [],
   "source": [
    "r_data = pyreadr.read_r(data_src)"
   ]
  },
  {
   "cell_type": "code",
   "execution_count": 4,
   "metadata": {},
   "outputs": [],
   "source": [
    "data1 = r_data[\"Data1\"]\n",
    "data2 = r_data[\"Data2\"]"
   ]
  },
  {
   "cell_type": "markdown",
   "metadata": {},
   "source": [
    "## `Data1` -- misclassifications"
   ]
  },
  {
   "cell_type": "code",
   "execution_count": 5,
   "metadata": {},
   "outputs": [
    {
     "data": {
      "text/html": [
       "<div>\n",
       "<style scoped>\n",
       "    .dataframe tbody tr th:only-of-type {\n",
       "        vertical-align: middle;\n",
       "    }\n",
       "\n",
       "    .dataframe tbody tr th {\n",
       "        vertical-align: top;\n",
       "    }\n",
       "\n",
       "    .dataframe thead th {\n",
       "        text-align: right;\n",
       "    }\n",
       "</style>\n",
       "<table border=\"1\" class=\"dataframe\">\n",
       "  <thead>\n",
       "    <tr style=\"text-align: right;\">\n",
       "      <th></th>\n",
       "      <th>IdTooth</th>\n",
       "      <th>VISIT</th>\n",
       "      <th>EXAMINER</th>\n",
       "      <th>STATUS</th>\n",
       "      <th>TOOTH</th>\n",
       "    </tr>\n",
       "  </thead>\n",
       "  <tbody>\n",
       "    <tr>\n",
       "      <th>0</th>\n",
       "      <td>1_16</td>\n",
       "      <td>7.690623</td>\n",
       "      <td>15</td>\n",
       "      <td>0</td>\n",
       "      <td>16</td>\n",
       "    </tr>\n",
       "    <tr>\n",
       "      <th>1</th>\n",
       "      <td>1_16</td>\n",
       "      <td>8.544832</td>\n",
       "      <td>8</td>\n",
       "      <td>0</td>\n",
       "      <td>16</td>\n",
       "    </tr>\n",
       "    <tr>\n",
       "      <th>2</th>\n",
       "      <td>1_16</td>\n",
       "      <td>9.462012</td>\n",
       "      <td>15</td>\n",
       "      <td>0</td>\n",
       "      <td>16</td>\n",
       "    </tr>\n",
       "    <tr>\n",
       "      <th>3</th>\n",
       "      <td>1_16</td>\n",
       "      <td>10.193018</td>\n",
       "      <td>8</td>\n",
       "      <td>0</td>\n",
       "      <td>16</td>\n",
       "    </tr>\n",
       "    <tr>\n",
       "      <th>4</th>\n",
       "      <td>1_16</td>\n",
       "      <td>11.170431</td>\n",
       "      <td>14</td>\n",
       "      <td>0</td>\n",
       "      <td>16</td>\n",
       "    </tr>\n",
       "  </tbody>\n",
       "</table>\n",
       "</div>"
      ],
      "text/plain": [
       "  IdTooth      VISIT  EXAMINER  STATUS  TOOTH\n",
       "0    1_16   7.690623        15       0     16\n",
       "1    1_16   8.544832         8       0     16\n",
       "2    1_16   9.462012        15       0     16\n",
       "3    1_16  10.193018         8       0     16\n",
       "4    1_16  11.170431        14       0     16"
      ]
     },
     "execution_count": 5,
     "metadata": {},
     "output_type": "execute_result"
    }
   ],
   "source": [
    "data1.head()"
   ]
  },
  {
   "cell_type": "markdown",
   "metadata": {},
   "source": [
    "* Change STATUS to float.\n",
    "* Split IdTooth into IDNR (patient ID) and TOOTH (tooth ID).\n",
    "* Change their dtypes from str to int.\n",
    "* Change EXAMINER to int (was an int but int32, this makes it an int64).\n",
    "* Drop IdTooth.\n",
    "* Reorder so that IDNR and TOOTH are the first two columns."
   ]
  },
  {
   "cell_type": "code",
   "execution_count": 6,
   "metadata": {},
   "outputs": [],
   "source": [
    "data1[\"STATUS\"] = data1[\"STATUS\"].astype(float)\n",
    "data1[[\"IDNR\", \"TOOTH\"]] = data1[\"IdTooth\"].str.split(\"_\", expand=True)\n",
    "data1[\"IDNR\"] = data1[\"IDNR\"].astype(int)\n",
    "data1[\"TOOTH\"] = data1[\"TOOTH\"].astype(int)\n",
    "data1[\"EXAMINER\"] = data1[\"EXAMINER\"].astype(int)\n",
    "data1.drop(\"IdTooth\", axis=\"columns\", inplace=True)\n",
    "data1 = data1[[\"IDNR\", \"TOOTH\", \"VISIT\", \"EXAMINER\", \"STATUS\"]]"
   ]
  },
  {
   "cell_type": "code",
   "execution_count": 7,
   "metadata": {},
   "outputs": [
    {
     "data": {
      "text/plain": [
       "IDNR          int64\n",
       "TOOTH         int64\n",
       "VISIT       float64\n",
       "EXAMINER      int64\n",
       "STATUS      float64\n",
       "dtype: object"
      ]
     },
     "execution_count": 7,
     "metadata": {},
     "output_type": "execute_result"
    }
   ],
   "source": [
    "data1.dtypes"
   ]
  },
  {
   "cell_type": "code",
   "execution_count": 8,
   "metadata": {},
   "outputs": [
    {
     "data": {
      "text/html": [
       "<div>\n",
       "<style scoped>\n",
       "    .dataframe tbody tr th:only-of-type {\n",
       "        vertical-align: middle;\n",
       "    }\n",
       "\n",
       "    .dataframe tbody tr th {\n",
       "        vertical-align: top;\n",
       "    }\n",
       "\n",
       "    .dataframe thead th {\n",
       "        text-align: right;\n",
       "    }\n",
       "</style>\n",
       "<table border=\"1\" class=\"dataframe\">\n",
       "  <thead>\n",
       "    <tr style=\"text-align: right;\">\n",
       "      <th></th>\n",
       "      <th>IDNR</th>\n",
       "      <th>TOOTH</th>\n",
       "      <th>VISIT</th>\n",
       "      <th>EXAMINER</th>\n",
       "      <th>STATUS</th>\n",
       "    </tr>\n",
       "  </thead>\n",
       "  <tbody>\n",
       "    <tr>\n",
       "      <th>0</th>\n",
       "      <td>1</td>\n",
       "      <td>16</td>\n",
       "      <td>7.690623</td>\n",
       "      <td>15</td>\n",
       "      <td>0.0</td>\n",
       "    </tr>\n",
       "    <tr>\n",
       "      <th>1</th>\n",
       "      <td>1</td>\n",
       "      <td>16</td>\n",
       "      <td>8.544832</td>\n",
       "      <td>8</td>\n",
       "      <td>0.0</td>\n",
       "    </tr>\n",
       "    <tr>\n",
       "      <th>2</th>\n",
       "      <td>1</td>\n",
       "      <td>16</td>\n",
       "      <td>9.462012</td>\n",
       "      <td>15</td>\n",
       "      <td>0.0</td>\n",
       "    </tr>\n",
       "    <tr>\n",
       "      <th>3</th>\n",
       "      <td>1</td>\n",
       "      <td>16</td>\n",
       "      <td>10.193018</td>\n",
       "      <td>8</td>\n",
       "      <td>0.0</td>\n",
       "    </tr>\n",
       "    <tr>\n",
       "      <th>4</th>\n",
       "      <td>1</td>\n",
       "      <td>16</td>\n",
       "      <td>11.170431</td>\n",
       "      <td>14</td>\n",
       "      <td>0.0</td>\n",
       "    </tr>\n",
       "  </tbody>\n",
       "</table>\n",
       "</div>"
      ],
      "text/plain": [
       "   IDNR  TOOTH      VISIT  EXAMINER  STATUS\n",
       "0     1     16   7.690623        15     0.0\n",
       "1     1     16   8.544832         8     0.0\n",
       "2     1     16   9.462012        15     0.0\n",
       "3     1     16  10.193018         8     0.0\n",
       "4     1     16  11.170431        14     0.0"
      ]
     },
     "execution_count": 8,
     "metadata": {},
     "output_type": "execute_result"
    }
   ],
   "source": [
    "data1.head()"
   ]
  },
  {
   "cell_type": "code",
   "execution_count": 9,
   "metadata": {},
   "outputs": [
    {
     "data": {
      "text/plain": [
       "True"
      ]
     },
     "execution_count": 9,
     "metadata": {},
     "output_type": "execute_result"
    }
   ],
   "source": [
    "data1.sort_values(by=[\"IDNR\", \"TOOTH\"]).equals(data1)"
   ]
  },
  {
   "cell_type": "markdown",
   "metadata": {},
   "source": [
    "## `Data2` -- regressors"
   ]
  },
  {
   "cell_type": "code",
   "execution_count": 10,
   "metadata": {},
   "outputs": [
    {
     "data": {
      "text/html": [
       "<div>\n",
       "<style scoped>\n",
       "    .dataframe tbody tr th:only-of-type {\n",
       "        vertical-align: middle;\n",
       "    }\n",
       "\n",
       "    .dataframe tbody tr th {\n",
       "        vertical-align: top;\n",
       "    }\n",
       "\n",
       "    .dataframe thead th {\n",
       "        text-align: right;\n",
       "    }\n",
       "</style>\n",
       "<table border=\"1\" class=\"dataframe\">\n",
       "  <thead>\n",
       "    <tr style=\"text-align: right;\">\n",
       "      <th></th>\n",
       "      <th>IDNR</th>\n",
       "      <th>TOOTH</th>\n",
       "      <th>EBEG</th>\n",
       "      <th>EEND</th>\n",
       "      <th>FBEG</th>\n",
       "      <th>FEND</th>\n",
       "      <th>GIRL</th>\n",
       "      <th>STARTBR</th>\n",
       "      <th>FREQ.BR</th>\n",
       "      <th>SEAL</th>\n",
       "      <th>PLAQUE.1</th>\n",
       "      <th>PLAQUE.2</th>\n",
       "      <th>MEALS</th>\n",
       "      <th>XCEN</th>\n",
       "      <th>YCEN</th>\n",
       "      <th>FTimeImp</th>\n",
       "    </tr>\n",
       "  </thead>\n",
       "  <tbody>\n",
       "    <tr>\n",
       "      <th>0</th>\n",
       "      <td>1.0</td>\n",
       "      <td>16.0</td>\n",
       "      <td>6.7</td>\n",
       "      <td>7.7</td>\n",
       "      <td>11.2</td>\n",
       "      <td>NaN</td>\n",
       "      <td>1.0</td>\n",
       "      <td>3.0</td>\n",
       "      <td>0.0</td>\n",
       "      <td>1.0</td>\n",
       "      <td>0.0</td>\n",
       "      <td>0.0</td>\n",
       "      <td>0.0</td>\n",
       "      <td>123.543184</td>\n",
       "      <td>174.995531</td>\n",
       "      <td>11.2</td>\n",
       "    </tr>\n",
       "    <tr>\n",
       "      <th>1</th>\n",
       "      <td>1.0</td>\n",
       "      <td>26.0</td>\n",
       "      <td>5.0</td>\n",
       "      <td>7.7</td>\n",
       "      <td>11.2</td>\n",
       "      <td>NaN</td>\n",
       "      <td>1.0</td>\n",
       "      <td>3.0</td>\n",
       "      <td>0.0</td>\n",
       "      <td>1.0</td>\n",
       "      <td>0.0</td>\n",
       "      <td>0.0</td>\n",
       "      <td>0.0</td>\n",
       "      <td>123.543184</td>\n",
       "      <td>174.995531</td>\n",
       "      <td>11.2</td>\n",
       "    </tr>\n",
       "    <tr>\n",
       "      <th>2</th>\n",
       "      <td>1.0</td>\n",
       "      <td>36.0</td>\n",
       "      <td>6.7</td>\n",
       "      <td>7.7</td>\n",
       "      <td>11.2</td>\n",
       "      <td>NaN</td>\n",
       "      <td>1.0</td>\n",
       "      <td>3.0</td>\n",
       "      <td>0.0</td>\n",
       "      <td>1.0</td>\n",
       "      <td>0.0</td>\n",
       "      <td>0.0</td>\n",
       "      <td>0.0</td>\n",
       "      <td>123.543184</td>\n",
       "      <td>174.995531</td>\n",
       "      <td>11.2</td>\n",
       "    </tr>\n",
       "    <tr>\n",
       "      <th>3</th>\n",
       "      <td>1.0</td>\n",
       "      <td>46.0</td>\n",
       "      <td>6.7</td>\n",
       "      <td>7.7</td>\n",
       "      <td>11.2</td>\n",
       "      <td>NaN</td>\n",
       "      <td>1.0</td>\n",
       "      <td>3.0</td>\n",
       "      <td>0.0</td>\n",
       "      <td>1.0</td>\n",
       "      <td>0.0</td>\n",
       "      <td>0.0</td>\n",
       "      <td>0.0</td>\n",
       "      <td>123.543184</td>\n",
       "      <td>174.995531</td>\n",
       "      <td>11.2</td>\n",
       "    </tr>\n",
       "    <tr>\n",
       "      <th>4</th>\n",
       "      <td>2.0</td>\n",
       "      <td>16.0</td>\n",
       "      <td>5.0</td>\n",
       "      <td>7.4</td>\n",
       "      <td>7.4</td>\n",
       "      <td>8.4</td>\n",
       "      <td>0.0</td>\n",
       "      <td>6.0</td>\n",
       "      <td>0.0</td>\n",
       "      <td>0.0</td>\n",
       "      <td>0.0</td>\n",
       "      <td>0.0</td>\n",
       "      <td>1.0</td>\n",
       "      <td>206.175102</td>\n",
       "      <td>206.617429</td>\n",
       "      <td>7.9</td>\n",
       "    </tr>\n",
       "  </tbody>\n",
       "</table>\n",
       "</div>"
      ],
      "text/plain": [
       "   IDNR  TOOTH  EBEG  EEND  FBEG  FEND  GIRL  STARTBR  FREQ.BR  SEAL  \\\n",
       "0   1.0   16.0   6.7   7.7  11.2   NaN   1.0      3.0      0.0   1.0   \n",
       "1   1.0   26.0   5.0   7.7  11.2   NaN   1.0      3.0      0.0   1.0   \n",
       "2   1.0   36.0   6.7   7.7  11.2   NaN   1.0      3.0      0.0   1.0   \n",
       "3   1.0   46.0   6.7   7.7  11.2   NaN   1.0      3.0      0.0   1.0   \n",
       "4   2.0   16.0   5.0   7.4   7.4   8.4   0.0      6.0      0.0   0.0   \n",
       "\n",
       "   PLAQUE.1  PLAQUE.2  MEALS        XCEN        YCEN  FTimeImp  \n",
       "0       0.0       0.0    0.0  123.543184  174.995531      11.2  \n",
       "1       0.0       0.0    0.0  123.543184  174.995531      11.2  \n",
       "2       0.0       0.0    0.0  123.543184  174.995531      11.2  \n",
       "3       0.0       0.0    0.0  123.543184  174.995531      11.2  \n",
       "4       0.0       0.0    1.0  206.175102  206.617429       7.9  "
      ]
     },
     "execution_count": 10,
     "metadata": {},
     "output_type": "execute_result"
    }
   ],
   "source": [
    "data2.head()"
   ]
  },
  {
   "cell_type": "code",
   "execution_count": 11,
   "metadata": {},
   "outputs": [
    {
     "data": {
      "text/plain": [
       "IDNR            0\n",
       "TOOTH           0\n",
       "EBEG            0\n",
       "EEND            0\n",
       "FBEG          663\n",
       "FEND        11494\n",
       "GIRL            0\n",
       "STARTBR       907\n",
       "FREQ.BR         0\n",
       "SEAL            0\n",
       "PLAQUE.1     2474\n",
       "PLAQUE.2     2474\n",
       "MEALS        1799\n",
       "XCEN            0\n",
       "YCEN            0\n",
       "FTimeImp        0\n",
       "dtype: int64"
      ]
     },
     "execution_count": 11,
     "metadata": {},
     "output_type": "execute_result"
    }
   ],
   "source": [
    "data2.isna().sum()"
   ]
  },
  {
   "cell_type": "markdown",
   "metadata": {},
   "source": [
    "* Change IDNR and TOOTH to int."
   ]
  },
  {
   "cell_type": "code",
   "execution_count": 12,
   "metadata": {},
   "outputs": [],
   "source": [
    "data2[\"IDNR\"] = data2[\"IDNR\"].astype(int)\n",
    "data2[\"TOOTH\"] = data2[\"TOOTH\"].astype(int)"
   ]
  },
  {
   "cell_type": "markdown",
   "metadata": {},
   "source": [
    "* Change FBEG NA to $0$.\n",
    "* Change FEND NA to $+\\infty$."
   ]
  },
  {
   "cell_type": "code",
   "execution_count": 13,
   "metadata": {},
   "outputs": [],
   "source": [
    "data2.loc[data2[\"FBEG\"].isna(), \"FBEG\"] = 0.0\n",
    "data2.loc[data2[\"FEND\"].isna(), \"FEND\"] = float(\"inf\")"
   ]
  },
  {
   "cell_type": "code",
   "execution_count": 14,
   "metadata": {},
   "outputs": [
    {
     "data": {
      "text/plain": [
       "IDNR          int64\n",
       "TOOTH         int64\n",
       "EBEG        float64\n",
       "EEND        float64\n",
       "FBEG        float64\n",
       "FEND        float64\n",
       "GIRL        float64\n",
       "STARTBR     float64\n",
       "FREQ.BR     float64\n",
       "SEAL        float64\n",
       "PLAQUE.1    float64\n",
       "PLAQUE.2    float64\n",
       "MEALS       float64\n",
       "XCEN        float64\n",
       "YCEN        float64\n",
       "FTimeImp    float64\n",
       "dtype: object"
      ]
     },
     "execution_count": 14,
     "metadata": {},
     "output_type": "execute_result"
    }
   ],
   "source": [
    "data2.dtypes"
   ]
  },
  {
   "cell_type": "code",
   "execution_count": 15,
   "metadata": {},
   "outputs": [
    {
     "data": {
      "text/html": [
       "<div>\n",
       "<style scoped>\n",
       "    .dataframe tbody tr th:only-of-type {\n",
       "        vertical-align: middle;\n",
       "    }\n",
       "\n",
       "    .dataframe tbody tr th {\n",
       "        vertical-align: top;\n",
       "    }\n",
       "\n",
       "    .dataframe thead th {\n",
       "        text-align: right;\n",
       "    }\n",
       "</style>\n",
       "<table border=\"1\" class=\"dataframe\">\n",
       "  <thead>\n",
       "    <tr style=\"text-align: right;\">\n",
       "      <th></th>\n",
       "      <th>IDNR</th>\n",
       "      <th>TOOTH</th>\n",
       "      <th>EBEG</th>\n",
       "      <th>EEND</th>\n",
       "      <th>FBEG</th>\n",
       "      <th>FEND</th>\n",
       "      <th>GIRL</th>\n",
       "      <th>STARTBR</th>\n",
       "      <th>FREQ.BR</th>\n",
       "      <th>SEAL</th>\n",
       "      <th>PLAQUE.1</th>\n",
       "      <th>PLAQUE.2</th>\n",
       "      <th>MEALS</th>\n",
       "      <th>XCEN</th>\n",
       "      <th>YCEN</th>\n",
       "      <th>FTimeImp</th>\n",
       "    </tr>\n",
       "  </thead>\n",
       "  <tbody>\n",
       "    <tr>\n",
       "      <th>0</th>\n",
       "      <td>1</td>\n",
       "      <td>16</td>\n",
       "      <td>6.7</td>\n",
       "      <td>7.7</td>\n",
       "      <td>11.2</td>\n",
       "      <td>inf</td>\n",
       "      <td>1.0</td>\n",
       "      <td>3.0</td>\n",
       "      <td>0.0</td>\n",
       "      <td>1.0</td>\n",
       "      <td>0.0</td>\n",
       "      <td>0.0</td>\n",
       "      <td>0.0</td>\n",
       "      <td>123.543184</td>\n",
       "      <td>174.995531</td>\n",
       "      <td>11.2</td>\n",
       "    </tr>\n",
       "    <tr>\n",
       "      <th>1</th>\n",
       "      <td>1</td>\n",
       "      <td>26</td>\n",
       "      <td>5.0</td>\n",
       "      <td>7.7</td>\n",
       "      <td>11.2</td>\n",
       "      <td>inf</td>\n",
       "      <td>1.0</td>\n",
       "      <td>3.0</td>\n",
       "      <td>0.0</td>\n",
       "      <td>1.0</td>\n",
       "      <td>0.0</td>\n",
       "      <td>0.0</td>\n",
       "      <td>0.0</td>\n",
       "      <td>123.543184</td>\n",
       "      <td>174.995531</td>\n",
       "      <td>11.2</td>\n",
       "    </tr>\n",
       "    <tr>\n",
       "      <th>2</th>\n",
       "      <td>1</td>\n",
       "      <td>36</td>\n",
       "      <td>6.7</td>\n",
       "      <td>7.7</td>\n",
       "      <td>11.2</td>\n",
       "      <td>inf</td>\n",
       "      <td>1.0</td>\n",
       "      <td>3.0</td>\n",
       "      <td>0.0</td>\n",
       "      <td>1.0</td>\n",
       "      <td>0.0</td>\n",
       "      <td>0.0</td>\n",
       "      <td>0.0</td>\n",
       "      <td>123.543184</td>\n",
       "      <td>174.995531</td>\n",
       "      <td>11.2</td>\n",
       "    </tr>\n",
       "    <tr>\n",
       "      <th>3</th>\n",
       "      <td>1</td>\n",
       "      <td>46</td>\n",
       "      <td>6.7</td>\n",
       "      <td>7.7</td>\n",
       "      <td>11.2</td>\n",
       "      <td>inf</td>\n",
       "      <td>1.0</td>\n",
       "      <td>3.0</td>\n",
       "      <td>0.0</td>\n",
       "      <td>1.0</td>\n",
       "      <td>0.0</td>\n",
       "      <td>0.0</td>\n",
       "      <td>0.0</td>\n",
       "      <td>123.543184</td>\n",
       "      <td>174.995531</td>\n",
       "      <td>11.2</td>\n",
       "    </tr>\n",
       "    <tr>\n",
       "      <th>4</th>\n",
       "      <td>2</td>\n",
       "      <td>16</td>\n",
       "      <td>5.0</td>\n",
       "      <td>7.4</td>\n",
       "      <td>7.4</td>\n",
       "      <td>8.4</td>\n",
       "      <td>0.0</td>\n",
       "      <td>6.0</td>\n",
       "      <td>0.0</td>\n",
       "      <td>0.0</td>\n",
       "      <td>0.0</td>\n",
       "      <td>0.0</td>\n",
       "      <td>1.0</td>\n",
       "      <td>206.175102</td>\n",
       "      <td>206.617429</td>\n",
       "      <td>7.9</td>\n",
       "    </tr>\n",
       "  </tbody>\n",
       "</table>\n",
       "</div>"
      ],
      "text/plain": [
       "   IDNR  TOOTH  EBEG  EEND  FBEG  FEND  GIRL  STARTBR  FREQ.BR  SEAL  \\\n",
       "0     1     16   6.7   7.7  11.2   inf   1.0      3.0      0.0   1.0   \n",
       "1     1     26   5.0   7.7  11.2   inf   1.0      3.0      0.0   1.0   \n",
       "2     1     36   6.7   7.7  11.2   inf   1.0      3.0      0.0   1.0   \n",
       "3     1     46   6.7   7.7  11.2   inf   1.0      3.0      0.0   1.0   \n",
       "4     2     16   5.0   7.4   7.4   8.4   0.0      6.0      0.0   0.0   \n",
       "\n",
       "   PLAQUE.1  PLAQUE.2  MEALS        XCEN        YCEN  FTimeImp  \n",
       "0       0.0       0.0    0.0  123.543184  174.995531      11.2  \n",
       "1       0.0       0.0    0.0  123.543184  174.995531      11.2  \n",
       "2       0.0       0.0    0.0  123.543184  174.995531      11.2  \n",
       "3       0.0       0.0    0.0  123.543184  174.995531      11.2  \n",
       "4       0.0       0.0    1.0  206.175102  206.617429       7.9  "
      ]
     },
     "execution_count": 15,
     "metadata": {},
     "output_type": "execute_result"
    }
   ],
   "source": [
    "data2.head()"
   ]
  },
  {
   "cell_type": "code",
   "execution_count": 16,
   "metadata": {},
   "outputs": [
    {
     "data": {
      "text/plain": [
       "IDNR           0\n",
       "TOOTH          0\n",
       "EBEG           0\n",
       "EEND           0\n",
       "FBEG           0\n",
       "FEND           0\n",
       "GIRL           0\n",
       "STARTBR      907\n",
       "FREQ.BR        0\n",
       "SEAL           0\n",
       "PLAQUE.1    2474\n",
       "PLAQUE.2    2474\n",
       "MEALS       1799\n",
       "XCEN           0\n",
       "YCEN           0\n",
       "FTimeImp       0\n",
       "dtype: int64"
      ]
     },
     "execution_count": 16,
     "metadata": {},
     "output_type": "execute_result"
    }
   ],
   "source": [
    "data2.isna().sum()"
   ]
  },
  {
   "cell_type": "code",
   "execution_count": 17,
   "metadata": {},
   "outputs": [
    {
     "data": {
      "text/plain": [
       "True"
      ]
     },
     "execution_count": 17,
     "metadata": {},
     "output_type": "execute_result"
    }
   ],
   "source": [
    "data2.sort_values(by=[\"IDNR\", \"TOOTH\"]).equals(data2)"
   ]
  },
  {
   "cell_type": "code",
   "execution_count": 19,
   "metadata": {},
   "outputs": [],
   "source": [
    "grouped = data2.groupby(\"IDNR\").count()\n",
    "not_4_teeth = grouped[grouped[\"TOOTH\"] != 4].index"
   ]
  },
  {
   "cell_type": "code",
   "execution_count": 26,
   "metadata": {},
   "outputs": [
    {
     "data": {
      "text/plain": [
       "(15332, 16)"
      ]
     },
     "execution_count": 26,
     "metadata": {},
     "output_type": "execute_result"
    }
   ],
   "source": [
    "data2.drop(data2[data2[\"IDNR\"].isin(not_4_teeth)].index).shape"
   ]
  },
  {
   "cell_type": "markdown",
   "metadata": {},
   "source": [
    "## Join Data1 and Data2"
   ]
  },
  {
   "cell_type": "code",
   "execution_count": null,
   "metadata": {},
   "outputs": [],
   "source": [
    "%memit df = pd.merge(data1, data2, how=\"inner\", on=[\"IDNR\", \"TOOTH\"], validate=\"many_to_one\")"
   ]
  },
  {
   "cell_type": "code",
   "execution_count": null,
   "metadata": {},
   "outputs": [],
   "source": [
    "df.memory_usage(deep=True).values.sum() / 1024 / 1024"
   ]
  },
  {
   "cell_type": "code",
   "execution_count": null,
   "metadata": {},
   "outputs": [],
   "source": [
    "df.sort_values(by=[\"IDNR\", \"TOOTH\"]).equals(df)"
   ]
  }
 ],
 "metadata": {
  "kernelspec": {
   "display_name": "Python 3",
   "language": "python",
   "name": "python3"
  },
  "language_info": {
   "codemirror_mode": {
    "name": "ipython",
    "version": 3
   },
   "file_extension": ".py",
   "mimetype": "text/x-python",
   "name": "python",
   "nbconvert_exporter": "python",
   "pygments_lexer": "ipython3",
   "version": "3.7.6"
  }
 },
 "nbformat": 4,
 "nbformat_minor": 4
}
