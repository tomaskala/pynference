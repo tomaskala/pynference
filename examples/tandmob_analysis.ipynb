{
 "cells": [
  {
   "cell_type": "code",
   "execution_count": null,
   "metadata": {},
   "outputs": [],
   "source": [
    "import pickle\n",
    "\n",
    "import matplotlib.pyplot as plt\n",
    "import numpy as np\n",
    "import pandas as pd\n",
    "import pyreadr\n",
    "\n",
    "%load_ext memory_profiler"
   ]
  },
  {
   "cell_type": "code",
   "execution_count": null,
   "metadata": {},
   "outputs": [],
   "source": [
    "data_src = \"./data/Data_20130610.RData\""
   ]
  },
  {
   "cell_type": "code",
   "execution_count": null,
   "metadata": {},
   "outputs": [],
   "source": [
    "r_data = pyreadr.read_r(data_src)"
   ]
  },
  {
   "cell_type": "code",
   "execution_count": null,
   "metadata": {},
   "outputs": [],
   "source": [
    "data1 = r_data[\"Data1\"]\n",
    "data2 = r_data[\"Data2\"]"
   ]
  },
  {
   "cell_type": "markdown",
   "metadata": {},
   "source": [
    "## `Data1` -- misclassifications"
   ]
  },
  {
   "cell_type": "code",
   "execution_count": null,
   "metadata": {},
   "outputs": [],
   "source": [
    "data1.head()"
   ]
  },
  {
   "cell_type": "markdown",
   "metadata": {},
   "source": [
    "* Change STATUS to float.\n",
    "* Split IdTooth into IDNR (patient ID) and TOOTH (tooth ID).\n",
    "* Change their dtypes from str to int.\n",
    "* Change EXAMINER to int (was an int but int32, this makes it an int64).\n",
    "* Drop IdTooth.\n",
    "* Reorder so that IDNR and TOOTH are the first two columns."
   ]
  },
  {
   "cell_type": "code",
   "execution_count": null,
   "metadata": {},
   "outputs": [],
   "source": [
    "data1[\"STATUS\"] = data1[\"STATUS\"].astype(float)\n",
    "data1[[\"IDNR\", \"TOOTH\"]] = data1[\"IdTooth\"].str.split(\"_\", expand=True)\n",
    "data1[\"IDNR\"] = data1[\"IDNR\"].astype(int) - 1\n",
    "data1[\"TOOTH\"] = data1[\"TOOTH\"].astype(int)\n",
    "data1[\"TOOTH_RANK\"] = data1[\"TOOTH\"].replace({16: 0, 26: 1, 36: 2, 46: 3})\n",
    "data1[\"EXAMINER\"] = data1[\"EXAMINER\"].astype(int) - 1\n",
    "data1.drop(\"IdTooth\", axis=\"columns\", inplace=True)\n",
    "data1[\"VISIT_RANK\"] = data1.groupby([\"IDNR\", \"TOOTH\"]).rank()[\"VISIT\"].astype(int) - 1\n",
    "data1 = data1[[\"IDNR\", \"TOOTH\", \"TOOTH_RANK\", \"VISIT\", \"VISIT_RANK\", \"EXAMINER\", \"STATUS\"]]"
   ]
  },
  {
   "cell_type": "code",
   "execution_count": null,
   "metadata": {},
   "outputs": [],
   "source": [
    "data1.dtypes"
   ]
  },
  {
   "cell_type": "code",
   "execution_count": null,
   "metadata": {},
   "outputs": [],
   "source": [
    "data1.head()"
   ]
  },
  {
   "cell_type": "code",
   "execution_count": null,
   "metadata": {},
   "outputs": [],
   "source": [
    "data1.sort_values(by=[\"IDNR\", \"TOOTH\"]).equals(data1)"
   ]
  },
  {
   "cell_type": "markdown",
   "metadata": {},
   "source": [
    "## `Data2` -- regressors"
   ]
  },
  {
   "cell_type": "code",
   "execution_count": null,
   "metadata": {},
   "outputs": [],
   "source": [
    "data2.head()"
   ]
  },
  {
   "cell_type": "code",
   "execution_count": null,
   "metadata": {},
   "outputs": [],
   "source": [
    "data2.isna().sum()"
   ]
  },
  {
   "cell_type": "markdown",
   "metadata": {},
   "source": [
    "* Change IDNR and TOOTH to int."
   ]
  },
  {
   "cell_type": "code",
   "execution_count": null,
   "metadata": {},
   "outputs": [],
   "source": [
    "data2[\"IDNR\"] = data2[\"IDNR\"].astype(int) - 1\n",
    "data2[\"TOOTH\"] = data2[\"TOOTH\"].astype(int)\n",
    "data2[\"TOOTH_RANK\"] = data2[\"TOOTH\"].replace({16: 0, 26: 1, 36: 2, 46: 3})"
   ]
  },
  {
   "cell_type": "markdown",
   "metadata": {},
   "source": [
    "* Change FBEG NA to $0$.\n",
    "* Change FEND NA to $+\\infty$."
   ]
  },
  {
   "cell_type": "code",
   "execution_count": null,
   "metadata": {},
   "outputs": [],
   "source": [
    "data2.loc[data2[\"FBEG\"].isna(), \"FBEG\"] = 0.0\n",
    "data2.loc[data2[\"FEND\"].isna(), \"FEND\"] = float(\"inf\")"
   ]
  },
  {
   "cell_type": "code",
   "execution_count": null,
   "metadata": {},
   "outputs": [],
   "source": [
    "data2.dtypes"
   ]
  },
  {
   "cell_type": "code",
   "execution_count": null,
   "metadata": {},
   "outputs": [],
   "source": [
    "data2.head()"
   ]
  },
  {
   "cell_type": "code",
   "execution_count": null,
   "metadata": {},
   "outputs": [],
   "source": [
    "data2.isna().sum()"
   ]
  },
  {
   "cell_type": "code",
   "execution_count": null,
   "metadata": {},
   "outputs": [],
   "source": [
    "data2.sort_values(by=[\"IDNR\", \"TOOTH\"]).equals(data2)"
   ]
  },
  {
   "cell_type": "code",
   "execution_count": null,
   "metadata": {},
   "outputs": [],
   "source": [
    "grouped = data2.groupby(\"IDNR\").count()\n",
    "not_4_teeth = grouped[grouped[\"TOOTH\"] != 4].index\n",
    "data1.drop(data1[data1[\"IDNR\"].isin(not_4_teeth)].index, inplace=True)\n",
    "data2.drop(data2[data2[\"IDNR\"].isin(not_4_teeth)].index, inplace=True)"
   ]
  },
  {
   "cell_type": "code",
   "execution_count": null,
   "metadata": {},
   "outputs": [],
   "source": [
    "N = data2[\"IDNR\"].nunique()\n",
    "J = 4\n",
    "data2[\"IDNR\"] = np.repeat(np.arange(N, dtype=int), J)\n",
    "\n",
    "visits_per_subject = data1.groupby(\"IDNR\").count()[\"VISIT\"]\n",
    "data1[\"IDNR\"] = np.repeat(np.arange(N, dtype=int), visits_per_subject)"
   ]
  },
  {
   "cell_type": "markdown",
   "metadata": {},
   "source": [
    "## Join Data1 and Data2"
   ]
  },
  {
   "cell_type": "code",
   "execution_count": null,
   "metadata": {},
   "outputs": [],
   "source": [
    "%memit df = pd.merge(data1, data2, how=\"inner\", on=[\"IDNR\", \"TOOTH\"], validate=\"many_to_one\")"
   ]
  },
  {
   "cell_type": "code",
   "execution_count": null,
   "metadata": {},
   "outputs": [],
   "source": [
    "df.memory_usage(deep=True).values.sum() / 1024 / 1024"
   ]
  },
  {
   "cell_type": "code",
   "execution_count": null,
   "metadata": {},
   "outputs": [],
   "source": [
    "df.sort_values(by=[\"IDNR\", \"TOOTH\"]).equals(df)"
   ]
  }
 ],
 "metadata": {
  "kernelspec": {
   "display_name": "Python 3",
   "language": "python",
   "name": "python3"
  },
  "language_info": {
   "codemirror_mode": {
    "name": "ipython",
    "version": 3
   },
   "file_extension": ".py",
   "mimetype": "text/x-python",
   "name": "python",
   "nbconvert_exporter": "python",
   "pygments_lexer": "ipython3",
   "version": "3.7.6"
  }
 },
 "nbformat": 4,
 "nbformat_minor": 4
}
